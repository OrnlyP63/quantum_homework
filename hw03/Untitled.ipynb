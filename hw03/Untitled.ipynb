{
 "cells": [
  {
   "cell_type": "code",
   "execution_count": 1,
   "id": "e30bfd7a-bcac-4831-9c1b-ff96847a5a78",
   "metadata": {},
   "outputs": [],
   "source": [
    "import numpy as np"
   ]
  },
  {
   "cell_type": "code",
   "execution_count": 3,
   "id": "1eeb6d4d-d5fe-42ca-8610-8820182b8e92",
   "metadata": {},
   "outputs": [
    {
     "data": {
      "text/plain": [
       "array([[1],\n",
       "       [0],\n",
       "       [0],\n",
       "       [1]])"
      ]
     },
     "execution_count": 3,
     "metadata": {},
     "output_type": "execute_result"
    }
   ],
   "source": [
    "x = np.array([[1], [0], [0], [1]])\n",
    "x"
   ]
  },
  {
   "cell_type": "code",
   "execution_count": 4,
   "id": "02889aa2-a423-44fe-9af7-34c26005bce4",
   "metadata": {},
   "outputs": [],
   "source": [
    "X_gate = np.array([[0,0,0,0],[1,1,0,0],[0,0,1,1],[0,0,0,0]])"
   ]
  },
  {
   "cell_type": "code",
   "execution_count": 12,
   "id": "5da6aadc-b7f5-4bef-a5a2-ce2608c41a91",
   "metadata": {},
   "outputs": [
    {
     "data": {
      "text/plain": [
       "array([[0],\n",
       "       [1],\n",
       "       [1],\n",
       "       [0]])"
      ]
     },
     "execution_count": 12,
     "metadata": {},
     "output_type": "execute_result"
    }
   ],
   "source": [
    "X_gate @ x"
   ]
  },
  {
   "cell_type": "code",
   "execution_count": 1,
   "id": "989ed6a7-1638-4a4b-9766-88d3e00500a3",
   "metadata": {},
   "outputs": [],
   "source": [
    "# Importing everything\n",
    "from qiskit import QuantumCircuit\n",
    "from qiskit import IBMQ, Aer, transpile, assemble\n",
    "from qiskit.visualization import plot_histogram"
   ]
  },
  {
   "cell_type": "code",
   "execution_count": 2,
   "id": "b441fb7e-69c9-42d5-8d4c-75c81d29e32d",
   "metadata": {},
   "outputs": [],
   "source": [
    "# Define a function that takes a QuantumCircuit (qc) \n",
    "# and two integers (a & b)\n",
    "def create_bell_pair(qc, a, b):\n",
    "    qc.h(a) # Apply a h-gate to the first qubit\n",
    "    qc.cx(a,b) # Apply a CNOT, using the first qubit as the control"
   ]
  },
  {
   "cell_type": "code",
   "execution_count": 3,
   "id": "5f633c14-8f81-40d4-82d2-6716f6c8f517",
   "metadata": {},
   "outputs": [],
   "source": [
    "# Define a function that takes a QuantumCircuit (qc)\n",
    "# a qubit index (qubit) and a message string (msg)\n",
    "def encode_message(qc, qubit, msg):\n",
    "    if msg == \"00\":\n",
    "        pass    # To send 00 we do nothing\n",
    "    elif msg == \"10\":\n",
    "        qc.x(qubit) # To send 10 we apply an X-gate\n",
    "    elif msg == \"01\":\n",
    "        qc.z(qubit) # To send 01 we apply a Z-gate\n",
    "    elif msg == \"11\":\n",
    "        qc.z(qubit) # To send 11, we apply a Z-gate\n",
    "        qc.x(qubit) # followed by an X-gate\n",
    "    else:\n",
    "        print(\"Invalid Message: Sending '00'\")"
   ]
  },
  {
   "cell_type": "code",
   "execution_count": 4,
   "id": "ced80b8c-1006-4af6-9e47-d5a4a023feae",
   "metadata": {},
   "outputs": [],
   "source": [
    "def decode_message(qc, a, b):\n",
    "    qc.cx(a,b)\n",
    "    qc.h(a)"
   ]
  },
  {
   "cell_type": "code",
   "execution_count": 5,
   "id": "98eaeeeb-ce59-4b19-92dd-b3b036eeda97",
   "metadata": {},
   "outputs": [
    {
     "data": {
      "text/html": [
       "<pre style=\"word-wrap: normal;white-space: pre;background: #fff0;line-height: 1.1;font-family: &quot;Courier New&quot;,Courier,monospace\">        ┌───┐      ░ ┌───┐ ░      ┌───┐ ░ ┌─┐   \n",
       "   q_0: ┤ H ├──■───░─┤ X ├─░───■──┤ H ├─░─┤M├───\n",
       "        └───┘┌─┴─┐ ░ └───┘ ░ ┌─┴─┐└───┘ ░ └╥┘┌─┐\n",
       "   q_1: ─────┤ X ├─░───────░─┤ X ├──────░──╫─┤M├\n",
       "             └───┘ ░       ░ └───┘      ░  ║ └╥┘\n",
       "meas: 2/═══════════════════════════════════╩══╩═\n",
       "                                           0  1 </pre>"
      ],
      "text/plain": [
       "        ┌───┐      ░ ┌───┐ ░      ┌───┐ ░ ┌─┐   \n",
       "   q_0: ┤ H ├──■───░─┤ X ├─░───■──┤ H ├─░─┤M├───\n",
       "        └───┘┌─┴─┐ ░ └───┘ ░ ┌─┴─┐└───┘ ░ └╥┘┌─┐\n",
       "   q_1: ─────┤ X ├─░───────░─┤ X ├──────░──╫─┤M├\n",
       "             └───┘ ░       ░ └───┘      ░  ║ └╥┘\n",
       "meas: 2/═══════════════════════════════════╩══╩═\n",
       "                                           0  1 "
      ]
     },
     "execution_count": 5,
     "metadata": {},
     "output_type": "execute_result"
    }
   ],
   "source": [
    "# Create the quantum circuit with 2 qubits\n",
    "qc = QuantumCircuit(2)\n",
    "\n",
    "\n",
    "# First, Charlie creates the entangled pair between Alice and Bob\n",
    "create_bell_pair(qc, 0, 1)\n",
    "qc.barrier() # This adds a barrier to our circuit. A barrier \n",
    "             # separates the gates in our diagram and makes it \n",
    "             # clear which part of the circuit is which\n",
    "\n",
    "# At this point, qubit 0 goes to Alice and qubit 1 goes to Bob\n",
    "\n",
    "# Next, Alice encodes her message onto qubit 0. In this case,\n",
    "# we want to send the message '10'. You can try changing this\n",
    "# value and see how it affects the circuit\n",
    "message = \"10\"\n",
    "encode_message(qc, 0, message)\n",
    "qc.barrier()\n",
    "# Alice then sends her qubit to Bob.\n",
    "\n",
    "# After recieving qubit 0, Bob applies the recovery protocol:\n",
    "decode_message(qc, 0, 1)\n",
    "\n",
    "# Finally, Bob measures his qubits to read Alice's message\n",
    "qc.measure_all()\n",
    "\n",
    "# Draw our output\n",
    "qc.draw()"
   ]
  },
  {
   "cell_type": "code",
   "execution_count": 6,
   "id": "c4c7a1cf-ef22-4cca-8426-6c0dc421716b",
   "metadata": {},
   "outputs": [
    {
     "name": "stdout",
     "output_type": "stream",
     "text": [
      "{'10': 1024}\n"
     ]
    },
    {
     "data": {
      "image/png": "[encoded data removed]",
      "text/plain": [
       "<Figure size 504x360 with 1 Axes>"
      ]
     },
     "execution_count": 6,
     "metadata": {},
     "output_type": "execute_result"
    }
   ],
   "source": [
    "aer_sim = Aer.get_backend('aer_simulator')\n",
    "qobj = assemble(qc)\n",
    "result = aer_sim.run(qobj).result()\n",
    "counts = result.get_counts(qc)\n",
    "print(counts)\n",
    "plot_histogram(counts)"
   ]
  },
  {
   "cell_type": "code",
   "execution_count": null,
   "id": "8933313c-6162-4aec-b9a5-11d9998d4e59",
   "metadata": {},
   "outputs": [],
   "source": []
  }
 ],
 "metadata": {
  "kernelspec": {
   "display_name": "Python (AIML)",
   "language": "python",
   "name": "aiml"
  },
  "language_info": {
   "codemirror_mode": {
    "name": "ipython",
    "version": 3
   },
   "file_extension": ".py",
   "mimetype": "text/x-python",
   "name": "python",
   "nbconvert_exporter": "python",
   "pygments_lexer": "ipython3",
   "version": "3.7.9"
  }
 },
 "nbformat": 4,
 "nbformat_minor": 5
}
