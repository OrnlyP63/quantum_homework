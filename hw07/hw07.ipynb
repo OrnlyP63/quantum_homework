{
 "cells": [
  {
   "cell_type": "code",
   "execution_count": 1,
   "id": "cee5f4bf-f588-43c2-b57f-17faa8d00955",
   "metadata": {},
   "outputs": [],
   "source": [
    "from qiskit import QuantumRegister, ClassicalRegister, QuantumCircuit\n",
    "import matplotlib.pyplot as plt"
   ]
  },
  {
   "cell_type": "code",
   "execution_count": 2,
   "id": "3d97d2d8-9e5b-4bfb-9067-354c60378226",
   "metadata": {},
   "outputs": [],
   "source": [
    "qreg_q = QuantumRegister(3, 'q')\n",
    "creg_b0 = ClassicalRegister(1, 'b0')\n",
    "creg_b1 = ClassicalRegister(1, 'b1')\n",
    "creg_aq = ClassicalRegister(1, 'aq')\n",
    "circuit = QuantumCircuit(qreg_q, creg_b0, creg_b1, creg_aq)\n",
    "\n",
    "circuit.h(qreg_q[0])\n",
    "circuit.s(qreg_q[0])\n",
    "circuit.t(qreg_q[0])\n",
    "circuit.h(qreg_q[0])\n",
    "circuit.h(qreg_q[1])\n",
    "circuit.cx(qreg_q[1], qreg_q[2])\n",
    "\n",
    "circuit.barrier(qreg_q[0], qreg_q[1])\n",
    "circuit.cx(qreg_q[0], qreg_q[1])\n",
    "circuit.h(qreg_q[0])\n",
    "circuit.measure(qreg_q[0], creg_b0[0])\n",
    "circuit.measure(qreg_q[1], creg_b1[0])\n",
    "circuit.barrier(qreg_q[0], qreg_q[1], qreg_q[2])\n",
    "\n",
    "circuit.x(qreg_q[2]).c_if(creg_b1, 1)\n",
    "circuit.z(qreg_q[2]).c_if(creg_b0, 1)\n",
    "circuit.measure(qreg_q[2], creg_aq[0])\n",
    "\n",
    "#drawing the circuit\n",
    "circuit.draw('mpl').savefig('circuit.png')\n",
    "# plt.savefig('circuit.png')"
   ]
  },
  {
   "cell_type": "code",
   "execution_count": 3,
   "id": "ac3c2211-459d-48b2-8f23-728aa7b57129",
   "metadata": {},
   "outputs": [],
   "source": [
    "# Adding the transpiler to reduce the circuit to QASM instructions\n",
    "# supported by the backend\n",
    "from qiskit import transpile\n",
    "\n",
    "# Use Aer's qasm_simulator\n",
    "from qiskit.providers.aer import QasmSimulator\n",
    "\n",
    "backend = QasmSimulator()\n",
    "\n",
    "# First we have to transpile the quantum circuit\n",
    "# to the low-level QASM instructions used by the\n",
    "# backend\n",
    "qc_compiled = transpile(circuit, backend)\n",
    "\n",
    "# Execute the circuit on the qasm simulator.\n",
    "# We've set the number of repeats of the circuit\n",
    "# to be 1024, which is the default.\n",
    "job_sim = backend.run(qc_compiled, shots=1024)\n",
    "\n",
    "# Grab the results from the job.\n",
    "result_sim = job_sim.result()"
   ]
  },
  {
   "cell_type": "code",
   "execution_count": 4,
   "id": "c9962d68-8708-450d-b3d1-42353251e3de",
   "metadata": {},
   "outputs": [
    {
     "name": "stdout",
     "output_type": "stream",
     "text": [
      "{'1 0 1': 227, '1 0 0': 212, '1 1 1': 231, '1 1 0': 210, '0 1 1': 43, '0 1 0': 31, '0 0 0': 25, '0 0 1': 45}\n"
     ]
    }
   ],
   "source": [
    "counts = result_sim.get_counts(qc_compiled)\n",
    "print(counts)"
   ]
  },
  {
   "cell_type": "code",
   "execution_count": 5,
   "id": "603842cc-5000-49e3-8c6a-b8da6a639203",
   "metadata": {},
   "outputs": [],
   "source": [
    "from qiskit.visualization import plot_histogram\n",
    "plot_histogram(counts).savefig('hist.png')\n",
    "# plt.savefig('hist.png')"
   ]
  },
  {
   "cell_type": "code",
   "execution_count": null,
   "id": "dea81686-b5de-47f2-b991-60ddeaddaa24",
   "metadata": {},
   "outputs": [],
   "source": []
  }
 ],
 "metadata": {
  "kernelspec": {
   "display_name": "Python (AIML)",
   "language": "python",
   "name": "aiml"
  },
  "language_info": {
   "codemirror_mode": {
    "name": "ipython",
    "version": 3
   },
   "file_extension": ".py",
   "mimetype": "text/x-python",
   "name": "python",
   "nbconvert_exporter": "python",
   "pygments_lexer": "ipython3",
   "version": "3.7.9"
  }
 },
 "nbformat": 4,
 "nbformat_minor": 5
}
