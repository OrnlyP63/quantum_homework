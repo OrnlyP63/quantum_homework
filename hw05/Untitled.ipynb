{
 "cells": [
  {
   "cell_type": "code",
   "execution_count": 1,
   "id": "dd33fd75-f9d5-4af4-95b0-b410477e469a",
   "metadata": {},
   "outputs": [],
   "source": [
    "from qiskit import QuantumCircuit, QuantumRegister, ClassicalRegister, execute, Aer, IBMQ, BasicAer\n",
    "import math"
   ]
  },
  {
   "cell_type": "code",
   "execution_count": 2,
   "id": "fea4047d-183b-4668-b77c-0bae05b52f0c",
   "metadata": {},
   "outputs": [],
   "source": [
    "# Set up the program\n",
    "alice = QuantumRegister(1, name='alice')\n",
    "fiber = QuantumRegister(1, name='fiber')\n",
    "bob   = QuantumRegister(1, name='bob')"
   ]
  },
  {
   "cell_type": "code",
   "execution_count": 3,
   "id": "026598c6-a1e8-420c-ba51-84d59fc3c93e",
   "metadata": {},
   "outputs": [],
   "source": [
    "alice_had = ClassicalRegister(1, name='ahad')\n",
    "alice_val = ClassicalRegister(1, name='aval')\n",
    "fiber_val = ClassicalRegister(1, name='fval')\n",
    "bob_had   = ClassicalRegister(1, name='bhad')\n",
    "bob_val   = ClassicalRegister(1, name='bval')\n"
   ]
  },
  {
   "cell_type": "code",
   "execution_count": 4,
   "id": "aef79bf3-af3e-4e09-a20e-eb5d1b24969e",
   "metadata": {},
   "outputs": [],
   "source": [
    "qc = QuantumCircuit(alice, fiber, bob, alice_had, alice_val, fiber_val, bob_had, bob_val)"
   ]
  },
  {
   "cell_type": "code",
   "execution_count": 5,
   "id": "8a880dd6-4463-448f-a01b-f1cc94386255",
   "metadata": {},
   "outputs": [
    {
     "data": {
      "text/plain": [
       "<qiskit.circuit.instructionset.InstructionSet at 0x2ae23fd7148>"
      ]
     },
     "execution_count": 5,
     "metadata": {},
     "output_type": "execute_result"
    }
   ],
   "source": [
    "# Use Alice's QPU to generate two random bits\n",
    "qc.reset(alice)          # write the value 0\n",
    "qc.h(alice)\n",
    "qc.measure(alice, alice_had)\n",
    "qc.reset(alice)          # write the value 0\n",
    "qc.h(alice)\n",
    "qc.measure(alice, alice_val)\n",
    "\n",
    "# Prepare Alice's qubit\n",
    "qc.reset(alice)          # write the value 0\n",
    "qc.x(alice).c_if(alice_val, 1)\n",
    "qc.h(alice).c_if(alice_had, 1)\n",
    "\n",
    "# Send the qubit!\n",
    "qc.swap(alice, fiber)\n",
    "\n",
    "# Activate the spy\n",
    "spy_is_present = True\n",
    "if spy_is_present:\n",
    "    qc.barrier()\n",
    "    spy_had = True\n",
    "    if spy_had:\n",
    "        qc.h(fiber)\n",
    "    qc.measure(fiber, fiber_val)\n",
    "    qc.reset(fiber)\n",
    "    qc.x(fiber).c_if(fiber_val, 1)\n",
    "    if spy_had:\n",
    "        qc.h(fiber)\n",
    "\n",
    "qc.barrier()\n",
    "\n",
    "# Use Bob's QPU to generate a random bit\n",
    "qc.reset(bob)\n",
    "qc.h(bob)\n",
    "qc.measure(bob, bob_had)\n",
    "\n",
    "# Receive the qubit!\n",
    "qc.swap(fiber, bob)\n",
    "qc.h(bob).c_if(bob_had, 1)\n",
    "qc.measure(bob, bob_val)"
   ]
  },
  {
   "cell_type": "code",
   "execution_count": 6,
   "id": "c8194394-8bdd-48c9-85eb-807f54d3970c",
   "metadata": {},
   "outputs": [
    {
     "data": {
      "text/html": [
       "<pre style=\"word-wrap: normal;white-space: pre;background: #fff0;line-height: 1.1;font-family: &quot;Courier New&quot;,Courier,monospace\">              ┌───┐┌─┐     ┌───┐┌─┐      ┌───┐  ┌───┐     ░              »\n",
       "alice_0: ─|0>─┤ H ├┤M├─|0>─┤ H ├┤M├─|0>──┤ X ├──┤ H ├──X──░──────────────»\n",
       "              └───┘└╥┘     └───┘└╥┘      └─╥─┘  └─╥─┘  │  ░ ┌───┐┌─┐     »\n",
       "fiber_0: ───────────╫────────────╫─────────╫──────╫────X──░─┤ H ├┤M├─|0>─»\n",
       "                    ║            ║         ║      ║       ░ └───┘└╥┘     »\n",
       "  bob_0: ───────────╫────────────╫─────────╫──────╫───────░───────╫──────»\n",
       "                    ║            ║         ║   ┌──╨──┐    ░       ║      »\n",
       " ahad: 1/═══════════╩════════════╬═════════╬═══╡ = 1 ╞════════════╬══════»\n",
       "                    0            ║      ┌──╨──┐└─────┘            ║      »\n",
       " aval: 1/════════════════════════╩══════╡ = 1 ╞═══════════════════╬══════»\n",
       "                                 0      └─────┘                   ║      »\n",
       " fval: 1/═════════════════════════════════════════════════════════╩══════»\n",
       "                                                                  0      »\n",
       " bhad: 1/════════════════════════════════════════════════════════════════»\n",
       "                                                                         »\n",
       " bval: 1/════════════════════════════════════════════════════════════════»\n",
       "                                                                         »\n",
       "«                      ░                           \n",
       "«alice_0: ─────────────░───────────────────────────\n",
       "«          ┌───┐ ┌───┐ ░                           \n",
       "«fiber_0: ─┤ X ├─┤ H ├─░───────────────X───────────\n",
       "«          └─╥─┘ └───┘ ░      ┌───┐┌─┐ │  ┌───┐ ┌─┐\n",
       "«  bob_0: ───╫─────────░──|0>─┤ H ├┤M├─X──┤ H ├─┤M├\n",
       "«            ║         ░      └───┘└╥┘    └─╥─┘ └╥┘\n",
       "« ahad: 1/═══╬══════════════════════╬═══════╬════╬═\n",
       "«            ║                      ║       ║    ║ \n",
       "« aval: 1/═══╬══════════════════════╬═══════╬════╬═\n",
       "«         ┌──╨──┐                   ║       ║    ║ \n",
       "« fval: 1/╡ = 1 ╞═══════════════════╬═══════╬════╬═\n",
       "«         └─────┘                   ║    ┌──╨──┐ ║ \n",
       "« bhad: 1/══════════════════════════╩════╡ = 1 ╞═╬═\n",
       "«                                   0    └─────┘ ║ \n",
       "« bval: 1/═══════════════════════════════════════╩═\n",
       "«                                                0 </pre>"
      ],
      "text/plain": [
       "              ┌───┐┌─┐     ┌───┐┌─┐      ┌───┐  ┌───┐     ░              »\n",
       "alice_0: ─|0>─┤ H ├┤M├─|0>─┤ H ├┤M├─|0>──┤ X ├──┤ H ├──X──░──────────────»\n",
       "              └───┘└╥┘     └───┘└╥┘      └─╥─┘  └─╥─┘  │  ░ ┌───┐┌─┐     »\n",
       "fiber_0: ───────────╫────────────╫─────────╫──────╫────X──░─┤ H ├┤M├─|0>─»\n",
       "                    ║            ║         ║      ║       ░ └───┘└╥┘     »\n",
       "  bob_0: ───────────╫────────────╫─────────╫──────╫───────░───────╫──────»\n",
       "                    ║            ║         ║   ┌──╨──┐    ░       ║      »\n",
       " ahad: 1/═══════════╩════════════╬═════════╬═══╡ = 1 ╞════════════╬══════»\n",
       "                    0            ║      ┌──╨──┐└─────┘            ║      »\n",
       " aval: 1/════════════════════════╩══════╡ = 1 ╞═══════════════════╬══════»\n",
       "                                 0      └─────┘                   ║      »\n",
       " fval: 1/═════════════════════════════════════════════════════════╩══════»\n",
       "                                                                  0      »\n",
       " bhad: 1/════════════════════════════════════════════════════════════════»\n",
       "                                                                         »\n",
       " bval: 1/════════════════════════════════════════════════════════════════»\n",
       "                                                                         »\n",
       "«                      ░                           \n",
       "«alice_0: ─────────────░───────────────────────────\n",
       "«          ┌───┐ ┌───┐ ░                           \n",
       "«fiber_0: ─┤ X ├─┤ H ├─░───────────────X───────────\n",
       "«          └─╥─┘ └───┘ ░      ┌───┐┌─┐ │  ┌───┐ ┌─┐\n",
       "«  bob_0: ───╫─────────░──|0>─┤ H ├┤M├─X──┤ H ├─┤M├\n",
       "«            ║         ░      └───┘└╥┘    └─╥─┘ └╥┘\n",
       "« ahad: 1/═══╬══════════════════════╬═══════╬════╬═\n",
       "«            ║                      ║       ║    ║ \n",
       "« aval: 1/═══╬══════════════════════╬═══════╬════╬═\n",
       "«         ┌──╨──┐                   ║       ║    ║ \n",
       "« fval: 1/╡ = 1 ╞═══════════════════╬═══════╬════╬═\n",
       "«         └─────┘                   ║    ┌──╨──┐ ║ \n",
       "« bhad: 1/══════════════════════════╩════╡ = 1 ╞═╬═\n",
       "«                                   0    └─────┘ ║ \n",
       "« bval: 1/═══════════════════════════════════════╩═\n",
       "«                                                0 "
      ]
     },
     "execution_count": 6,
     "metadata": {},
     "output_type": "execute_result"
    }
   ],
   "source": [
    "qc.draw()"
   ]
  },
  {
   "cell_type": "code",
   "execution_count": 7,
   "id": "c0206172-dbef-4095-9a20-8cc573b0c626",
   "metadata": {},
   "outputs": [
    {
     "data": {
      "text/plain": [
       "'\\nOPENQASM 2.0;\\ninclude \"qelib1.inc\";\\n\\nqreg alice[1];\\nqreg connection[1];\\nqreg bob[1];\\ncreg a1[1];\\ncreg a2[1];\\ncreg con[1];\\ncreg b1[2];\\ncreg b2[2];\\n\\nreset alice[0];\\nh alice[0];\\nmeasure alice[0] -> a1[0];\\nreset alice[0];\\nh alice[0];\\nmeasure alice[0] -> a2[0];\\nreset alice[0];\\n\\nif(a1==1) x alice[0];\\nif(a2==1) h alice[0];\\n\\nswap  alice[0], connection[0];\\nh connection[0];\\nmeasure connection[0] -> con[0];\\nreset connection[0];\\nif (con==1) x connection[0];\\nh connection[0];\\n\\nreset bob[0];\\nh bob[0];\\nmeasure bob[0] -> b1[0];\\n\\nswap connection[0], bob[0];\\nif(b1==1) h bob[0];\\nmeasure bob[0] -> b2[0];\\n\\n'"
      ]
     },
     "execution_count": 7,
     "metadata": {},
     "output_type": "execute_result"
    }
   ],
   "source": [
    "'''\n",
    "OPENQASM 2.0;\n",
    "include \"qelib1.inc\";\n",
    "\n",
    "qreg alice[1];\n",
    "qreg connection[1];\n",
    "qreg bob[1];\n",
    "creg a1[1];\n",
    "creg a2[1];\n",
    "creg con[1];\n",
    "creg b1[2];\n",
    "creg b2[2];\n",
    "\n",
    "reset alice[0];\n",
    "h alice[0];\n",
    "measure alice[0] -> a1[0];\n",
    "reset alice[0];\n",
    "h alice[0];\n",
    "measure alice[0] -> a2[0];\n",
    "reset alice[0];\n",
    "\n",
    "if(a1==1) x alice[0];\n",
    "if(a2==1) h alice[0];\n",
    "\n",
    "swap  alice[0], connection[0];\n",
    "h connection[0];\n",
    "measure connection[0] -> con[0];\n",
    "reset connection[0];\n",
    "if (con==1) x connection[0];\n",
    "h connection[0];\n",
    "\n",
    "reset bob[0];\n",
    "h bob[0];\n",
    "measure bob[0] -> b1[0];\n",
    "\n",
    "swap connection[0], bob[0];\n",
    "if(b1==1) h bob[0];\n",
    "measure bob[0] -> b2[0];\n",
    "\n",
    "'''"
   ]
  },
  {
   "cell_type": "code",
   "execution_count": null,
   "id": "35ebbf7e-81bc-4aa4-bec3-4670cab86aa6",
   "metadata": {},
   "outputs": [],
   "source": []
  }
 ],
 "metadata": {
  "kernelspec": {
   "display_name": "Python (AIML)",
   "language": "python",
   "name": "aiml"
  },
  "language_info": {
   "codemirror_mode": {
    "name": "ipython",
    "version": 3
   },
   "file_extension": ".py",
   "mimetype": "text/x-python",
   "name": "python",
   "nbconvert_exporter": "python",
   "pygments_lexer": "ipython3",
   "version": "3.7.9"
  }
 },
 "nbformat": 4,
 "nbformat_minor": 5
}
